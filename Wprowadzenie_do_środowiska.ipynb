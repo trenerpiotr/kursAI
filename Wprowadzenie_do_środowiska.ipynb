{
  "nbformat": 4,
  "nbformat_minor": 0,
  "metadata": {
    "colab": {
      "provenance": [],
      "toc_visible": true,
      "authorship_tag": "ABX9TyPwuvu0lS9pjBAkXrNPubhj",
      "include_colab_link": true
    },
    "kernelspec": {
      "name": "python3",
      "display_name": "Python 3"
    },
    "language_info": {
      "name": "python"
    }
  },
  "cells": [
    {
      "cell_type": "markdown",
      "metadata": {
        "id": "view-in-github",
        "colab_type": "text"
      },
      "source": [
        "<a href=\"https://colab.research.google.com/github/trenerpiotr/kursAI/blob/main/Wprowadzenie_do_%C5%9Brodowiska.ipynb\" target=\"_parent\"><img src=\"https://colab.research.google.com/assets/colab-badge.svg\" alt=\"Open In Colab\"/></a>"
      ]
    },
    {
      "cell_type": "markdown",
      "source": [
        "# Podstawowe elementy języka Python\n",
        "### W tym rozdziale przedstawimy podstawowe elementy składni Pythona"
      ],
      "metadata": {
        "id": "beUEDsfLIrX7"
      }
    },
    {
      "cell_type": "markdown",
      "source": [
        "Tworzenie zmiennej. Używanie f-stringów"
      ],
      "metadata": {
        "id": "96LqioQHK6nh"
      }
    },
    {
      "cell_type": "markdown",
      "source": [
        "Listy"
      ],
      "metadata": {
        "id": "Ud0lG9NkZUHJ"
      }
    },
    {
      "cell_type": "code",
      "source": [
        "lista_liczb = [2,8,5]\n",
        "print(lista_liczb[0])\n",
        "lista_mieszana = [2, \"napis\", True]\n",
        "\n",
        "# Dodanie do mieszanej listy poprzedniej czyli listy liczb\n",
        "lista_mieszana.append(lista_liczb)\n",
        "print(lista_mieszana)\n"
      ],
      "metadata": {
        "colab": {
          "base_uri": "https://localhost:8080/"
        },
        "id": "7djRlpMwZW5F",
        "outputId": "bf72d93b-126d-47a1-a285-2bea5cdc59ef"
      },
      "execution_count": null,
      "outputs": [
        {
          "output_type": "stream",
          "name": "stdout",
          "text": [
            "2\n",
            "[2, 'napis', True, [2, 8, 5]]\n"
          ]
        }
      ]
    },
    {
      "cell_type": "markdown",
      "source": [
        "Pętle"
      ],
      "metadata": {
        "id": "goX4trlWaTcY"
      }
    },
    {
      "cell_type": "code",
      "execution_count": null,
      "metadata": {
        "colab": {
          "base_uri": "https://localhost:8080/"
        },
        "id": "n2Ze9KL4HxH9",
        "outputId": "7decf8f8-8bca-4a56-9c6a-fc4e02bd40ff"
      },
      "outputs": [
        {
          "output_type": "stream",
          "name": "stdout",
          "text": [
            "Przykład pętli for:\n",
            "0\n",
            "1\n",
            "2\n",
            "3\n",
            "4\n",
            "\n",
            "Przykład pętli while:\n",
            "0\n",
            "1\n",
            "2\n",
            "3\n",
            "4\n"
          ]
        }
      ],
      "source": [
        "# Przykład pętli for\n",
        "print(\"Przykład pętli for:\")\n",
        "for i in range(5):\n",
        "    print(i)\n",
        "\n",
        "# Przykład pętli while\n",
        "print(\"\\nPrzykład pętli while:\")\n",
        "licznik = 0\n",
        "while licznik < 5:\n",
        "    print(licznik)\n",
        "    licznik += 1"
      ]
    },
    {
      "cell_type": "markdown",
      "source": [
        "Słowniki"
      ],
      "metadata": {
        "id": "g0opnvjZbNy4"
      }
    },
    {
      "cell_type": "code",
      "source": [],
      "metadata": {
        "id": "uVd0viULbQt7"
      },
      "execution_count": null,
      "outputs": []
    },
    {
      "cell_type": "code",
      "source": [],
      "metadata": {
        "id": "tcBx03Y_ch7d"
      },
      "execution_count": null,
      "outputs": []
    }
  ]
}