{
  "nbformat": 4,
  "nbformat_minor": 0,
  "metadata": {
    "colab": {
      "provenance": [],
      "toc_visible": true,
      "authorship_tag": "ABX9TyOf68Dx7iNfmrQT43S/9yx2",
      "include_colab_link": true
    },
    "kernelspec": {
      "name": "python3",
      "display_name": "Python 3"
    },
    "language_info": {
      "name": "python"
    }
  },
  "cells": [
    {
      "cell_type": "markdown",
      "metadata": {
        "id": "view-in-github",
        "colab_type": "text"
      },
      "source": [
        "<a href=\"https://colab.research.google.com/github/trenerpiotr/kursAI/blob/main/Wprowadzenie_do_%C5%9Brodowiska.ipynb\" target=\"_parent\"><img src=\"https://colab.research.google.com/assets/colab-badge.svg\" alt=\"Open In Colab\"/></a>"
      ]
    },
    {
      "cell_type": "markdown",
      "source": [
        "# Podstawowe elementy języka Python\n",
        "### W tym rozdziale przedstawimy podstawowe elementy składni Pythona"
      ],
      "metadata": {
        "id": "beUEDsfLIrX7"
      }
    },
    {
      "cell_type": "markdown",
      "source": [
        "Tworzenie zmiennej. Używanie f-stringów"
      ],
      "metadata": {
        "id": "96LqioQHK6nh"
      }
    },
    {
      "cell_type": "code",
      "execution_count": 6,
      "metadata": {
        "colab": {
          "base_uri": "https://localhost:8080/"
        },
        "id": "n2Ze9KL4HxH9",
        "outputId": "a5aac02d-e72a-4ec1-8edb-04d1b144eb99"
      },
      "outputs": [
        {
          "output_type": "stream",
          "name": "stdout",
          "text": [
            "Mój przykładowy napis to: Drugi Tekst\n"
          ]
        }
      ],
      "source": [
        "napis = \"Drugi Tekst\"\n",
        "print(f\"Mój przykładowy napis to: {napis}\")"
      ]
    }
  ]
}